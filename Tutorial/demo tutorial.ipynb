{
 "cells": [
  {
   "cell_type": "code",
   "execution_count": 19,
   "id": "32b245f2",
   "metadata": {},
   "outputs": [],
   "source": [
    "import scanpy as sc\n",
    "from deeprobust.image.attack.pgd import PGD\n",
    "from deeprobust.image.config import attack_params\n",
    "from deeprobust.image.utils import download_model\n",
    "import torch\n",
    "import deeprobust.image.netmodels.resnet as resnet\n",
    "from torchvision import transforms,datasets\n",
    "from deeprobust.image.attack.fgsm import FGSM\n",
    "import numpy as np"
   ]
  },
  {
   "cell_type": "code",
   "execution_count": 20,
   "id": "de12146d",
   "metadata": {},
   "outputs": [],
   "source": [
    "from robustcell import robustcell_attack"
   ]
  },
  {
   "cell_type": "code",
   "execution_count": 21,
   "id": "e1a93fca-44e4-43a6-99d4-344a9446e7ec",
   "metadata": {},
   "outputs": [],
   "source": [
    "adata = sc.read_h5ad(\"/gpfs/gibbs/pi/zhao/tl688/scgpt_dataset/demo_train.h5ad\")"
   ]
  },
  {
   "cell_type": "code",
   "execution_count": 22,
   "id": "5259c73e-3380-461a-a492-ade1e4790004",
   "metadata": {},
   "outputs": [
    {
     "data": {
      "text/plain": [
       "AnnData object with n_obs × n_vars = 10600 × 3000\n",
       "    obs: 'Celltype', 'celltype'\n",
       "    var: 'Gene Symbol'"
      ]
     },
     "execution_count": 22,
     "metadata": {},
     "output_type": "execute_result"
    }
   ],
   "source": [
    "adata"
   ]
  },
  {
   "cell_type": "code",
   "execution_count": null,
   "id": "7d475e12-95b8-4bce-a201-6455e29b8d4a",
   "metadata": {},
   "outputs": [],
   "source": [
    "sc.tl.pca(adata)\n",
    "sc.pp.neighbors(adata)\n",
    "sc.tl.umap(adata)"
   ]
  },
  {
   "cell_type": "code",
   "execution_count": null,
   "id": "aebaf82e-e9bf-4e85-815c-b2d928f16a94",
   "metadata": {},
   "outputs": [],
   "source": [
    "sc.pl.umap(adata, color='celltype')"
   ]
  },
  {
   "cell_type": "markdown",
   "id": "c8c6ed7a",
   "metadata": {},
   "source": [
    "# Run the attack"
   ]
  },
  {
   "cell_type": "code",
   "execution_count": null,
   "id": "3e4483a4",
   "metadata": {},
   "outputs": [],
   "source": [
    "adata.var_names"
   ]
  },
  {
   "cell_type": "code",
   "execution_count": null,
   "id": "4c05a66e",
   "metadata": {},
   "outputs": [],
   "source": [
    "X_copy = adata.X.toarray().copy()\n",
    "adata.X = adata.X.toarray() # This is required, operating the matrix based on the dense format rather than sparse format if exists."
   ]
  },
  {
   "cell_type": "code",
   "execution_count": null,
   "id": "3b8f4a96",
   "metadata": {},
   "outputs": [],
   "source": [
    "scattack = robustcell_attack.scRobustCell(adata = adata)"
   ]
  },
  {
   "cell_type": "code",
   "execution_count": null,
   "id": "b2bb3b0e",
   "metadata": {},
   "outputs": [],
   "source": []
  },
  {
   "cell_type": "code",
   "execution_count": null,
   "id": "8148f627",
   "metadata": {},
   "outputs": [],
   "source": [
    "out_single = scattack.scMaxGene(gene = 'COL1A1', scale=100)"
   ]
  },
  {
   "cell_type": "markdown",
   "id": "122d961b",
   "metadata": {},
   "source": [
    "# Check the difference"
   ]
  },
  {
   "cell_type": "code",
   "execution_count": null,
   "id": "0de15b6a",
   "metadata": {},
   "outputs": [],
   "source": [
    "out_single[:,0]"
   ]
  },
  {
   "cell_type": "code",
   "execution_count": null,
   "id": "cf87d862",
   "metadata": {},
   "outputs": [],
   "source": [
    "X_copy[:,0]"
   ]
  },
  {
   "cell_type": "code",
   "execution_count": null,
   "id": "9244b9c0",
   "metadata": {},
   "outputs": [],
   "source": []
  }
 ],
 "metadata": {
  "kernelspec": {
   "display_name": "Python 3 (ipykernel)",
   "language": "python",
   "name": "python3"
  },
  "language_info": {
   "codemirror_mode": {
    "name": "ipython",
    "version": 3
   },
   "file_extension": ".py",
   "mimetype": "text/x-python",
   "name": "python",
   "nbconvert_exporter": "python",
   "pygments_lexer": "ipython3",
   "version": "3.8.19"
  }
 },
 "nbformat": 4,
 "nbformat_minor": 5
}
